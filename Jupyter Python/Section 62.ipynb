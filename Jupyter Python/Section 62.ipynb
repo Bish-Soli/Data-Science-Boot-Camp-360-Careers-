{
 "cells": [
  {
   "cell_type": "code",
   "execution_count": 1,
   "id": "59f3e51c",
   "metadata": {},
   "outputs": [
    {
     "data": {
      "text/plain": [
       "(1, 3, 12)"
      ]
     },
     "execution_count": 1,
     "metadata": {},
     "output_type": "execute_result"
    }
   ],
   "source": [
    "time_horizon = 1,3,12\n",
    "time_horizon"
   ]
  },
  {
   "cell_type": "code",
   "execution_count": 2,
   "id": "1c43882d",
   "metadata": {},
   "outputs": [
    {
     "data": {
      "text/plain": [
       "['Product A', 'Product B']"
      ]
     },
     "execution_count": 2,
     "metadata": {},
     "output_type": "execute_result"
    }
   ],
   "source": [
    "products = ['Product A','Product B']\n",
    "products"
   ]
  },
  {
   "cell_type": "code",
   "execution_count": 5,
   "id": "59968be3",
   "metadata": {},
   "outputs": [
    {
     "data": {
      "text/plain": [
       "'Expected sales for period of 12 month(s) for Product B:'"
      ]
     },
     "execution_count": 5,
     "metadata": {},
     "output_type": "execute_result"
    }
   ],
   "source": [
    "'Expected sales for period of {} month(s) for {}:'.format(time_horizon[2],products[1])"
   ]
  },
  {
   "cell_type": "markdown",
   "id": "25b9ce74",
   "metadata": {},
   "source": [
    "# iteration"
   ]
  },
  {
   "cell_type": "markdown",
   "id": "a818a17b",
   "metadata": {},
   "source": [
    "## sequence\n"
   ]
  },
  {
   "cell_type": "code",
   "execution_count": 8,
   "id": "ffa78b7f",
   "metadata": {},
   "outputs": [],
   "source": [
    "x = lambda x: x**2"
   ]
  },
  {
   "cell_type": "code",
   "execution_count": 9,
   "id": "aa47057e",
   "metadata": {},
   "outputs": [
    {
     "data": {
      "text/plain": [
       "<function __main__.<lambda>(x)>"
      ]
     },
     "execution_count": 9,
     "metadata": {},
     "output_type": "execute_result"
    }
   ],
   "source": [
    "x"
   ]
  },
  {
   "cell_type": "code",
   "execution_count": 10,
   "id": "df678112",
   "metadata": {},
   "outputs": [
    {
     "data": {
      "text/plain": [
       "9"
      ]
     },
     "execution_count": 10,
     "metadata": {},
     "output_type": "execute_result"
    }
   ],
   "source": [
    "x(3)"
   ]
  },
  {
   "cell_type": "code",
   "execution_count": 11,
   "id": "61059189",
   "metadata": {},
   "outputs": [
    {
     "data": {
      "text/plain": [
       "4"
      ]
     },
     "execution_count": 11,
     "metadata": {},
     "output_type": "execute_result"
    }
   ],
   "source": [
    "(lambda x: x**2)(2)"
   ]
  },
  {
   "cell_type": "code",
   "execution_count": null,
   "id": "eb748891",
   "metadata": {},
   "outputs": [],
   "source": []
  }
 ],
 "metadata": {
  "kernelspec": {
   "display_name": "Python 3 (ipykernel)",
   "language": "python",
   "name": "python3"
  },
  "language_info": {
   "codemirror_mode": {
    "name": "ipython",
    "version": 3
   },
   "file_extension": ".py",
   "mimetype": "text/x-python",
   "name": "python",
   "nbconvert_exporter": "python",
   "pygments_lexer": "ipython3",
   "version": "3.10.11"
  }
 },
 "nbformat": 4,
 "nbformat_minor": 5
}
